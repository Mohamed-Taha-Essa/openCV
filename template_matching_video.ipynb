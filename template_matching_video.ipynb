{
 "cells": [
  {
   "cell_type": "code",
   "execution_count": 6,
   "metadata": {},
   "outputs": [],
   "source": [
    "import cv2 \n",
    "import numpy as np \n",
    "\n",
    "cap = cv2.VideoCapture(0)\n",
    "\n",
    "template =cv2.imread(\"images/templatt.jpg\",cv2.IMREAD_GRAYSCALE)\n",
    "\n",
    "w,h =template.shape[::-1]\n",
    "while(True):\n",
    "    ret,frame = cap.read()\n",
    "    gray_frame =cv2.cvtColor(frame ,cv2.COLOR_BGR2GRAY)\n",
    "    \n",
    "    result =cv2.matchTemplate(gray_frame ,template ,cv2.TM_CCOEFF_NORMED)\n",
    "    \n",
    "    loc =np.where(result>=.5)\n",
    "    \n",
    "    for lc in zip(*loc[::-1]):\n",
    "        cv2.rectangle(frame ,(lc[0]-30,lc[1]-30 ),(lc[0] +w+30 ,lc[1]+h+30) ,(0,255,0),2)\n",
    "    \n",
    "    cv2.imshow(\"frame\" ,frame)\n",
    "    \n",
    "    key = cv2.waitKey(1)\n",
    "    if(key == 27):\n",
    "        break \n",
    "        \n",
    "        \n",
    "cap.release()\n",
    "cv2.destroyAllWindows()\n",
    "    "
   ]
  },
  {
   "cell_type": "code",
   "execution_count": null,
   "metadata": {},
   "outputs": [],
   "source": [
    "\n"
   ]
  },
  {
   "cell_type": "code",
   "execution_count": null,
   "metadata": {},
   "outputs": [],
   "source": []
  }
 ],
 "metadata": {
  "kernelspec": {
   "display_name": "Python 3",
   "language": "python",
   "name": "python3"
  },
  "language_info": {
   "codemirror_mode": {
    "name": "ipython",
    "version": 3
   },
   "file_extension": ".py",
   "mimetype": "text/x-python",
   "name": "python",
   "nbconvert_exporter": "python",
   "pygments_lexer": "ipython3",
   "version": "3.8.5"
  }
 },
 "nbformat": 4,
 "nbformat_minor": 4
}
