{
 "cells": [
  {
   "cell_type": "code",
   "execution_count": 1,
   "metadata": {},
   "outputs": [],
   "source": [
    "#gaussian pyramid\n",
    "import cv2\n",
    "import numpy as np\n",
    "\n",
    "img = cv2.imread(\"taha.jpg\" ,0)\n",
    "\n",
    "image = img.copy()\n",
    "gaussian_pydown =[image]\n",
    "cv2.imshow(\"first_image\" ,gaussian_pydown[0])\n",
    "\n",
    "for counter in range(6):\n",
    "    image= cv2.pyrDown(image)\n",
    "    gaussian_pydown.append(image)\n",
    "    cv2.imshow(str(counter) ,image)\n",
    "\n",
    "cv2.waitKey()\n",
    "cv2.destroyAllWindows()"
   ]
  },
  {
   "cell_type": "code",
   "execution_count": 6,
   "metadata": {},
   "outputs": [],
   "source": [
    "#lablacian pyramid\n",
    "import cv2\n",
    "import numpy as np\n",
    "\n",
    "img = cv2.imread(\"taha.jpg\" ,0)\n",
    "\n",
    "image = img.copy()\n",
    "gaussian_pydown =[image]\n",
    "cv2.imshow(\"original_image\" ,gaussian_pydown[0])\n",
    "\n",
    "for counter in range(6):\n",
    "    image= cv2.pyrDown(image)\n",
    "    gaussian_pydown.append(image)\n",
    "   # cv2.imshow(str(counter) ,image)\n",
    "\n",
    "lablacian_img = gaussian_pydown[5]\n",
    "lablacian_pyup = [lablacian_img]\n",
    "cv2.imshow(\"last_image\" ,lablacian_img)\n",
    "\n",
    "# li_shape =[]\n",
    "# for i in gaussian_pydown :\n",
    "#     li_shape.append(i.shape)\n",
    "\n",
    "# print(li_shape)\n",
    "\n",
    "for counter in range(5,0,-1):\n",
    "    gaussian_extend= cv2.pyrUp(gaussian_pydown[counter])\n",
    "    \n",
    "    width = gaussian_pydown[counter-1].shape[0]\n",
    "    height =gaussian_pydown[counter-1].shape[1]\n",
    " \n",
    "    gaussian_extend =cv2.resize(gaussian_extend ,(height ,width))\n",
    "    lablacian =cv2.subtract(gaussian_pydown[counter-1] ,gaussian_extend)\n",
    "    lablacian_pyup.append(lablacian)\n",
    "    #cv2.imshow(str(counter) ,lablacian)\n",
    "cv2.imshow(\"lablacian \",lablacian)\n",
    "cv2.waitKey()\n",
    "cv2.destroyAllWindows()"
   ]
  },
  {
   "cell_type": "code",
   "execution_count": null,
   "metadata": {},
   "outputs": [],
   "source": []
  },
  {
   "cell_type": "code",
   "execution_count": null,
   "metadata": {},
   "outputs": [],
   "source": []
  }
 ],
 "metadata": {
  "kernelspec": {
   "display_name": "Python 3",
   "language": "python",
   "name": "python3"
  },
  "language_info": {
   "codemirror_mode": {
    "name": "ipython",
    "version": 3
   },
   "file_extension": ".py",
   "mimetype": "text/x-python",
   "name": "python",
   "nbconvert_exporter": "python",
   "pygments_lexer": "ipython3",
   "version": "3.8.5"
  }
 },
 "nbformat": 4,
 "nbformat_minor": 4
}
