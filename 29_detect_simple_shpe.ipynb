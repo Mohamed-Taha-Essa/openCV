{
 "cells": [
  {
   "cell_type": "code",
   "execution_count": 1,
   "metadata": {},
   "outputs": [],
   "source": [
    "import cv2\n",
    "import numpy as np \n",
    "\n",
    "img = cv2.imread(\"shape.png\")\n",
    "img= cv2.resize(img ,(700,512))\n",
    "gray = cv2.cvtColor(img ,cv2.COLOR_BGR2GRAY)\n",
    "ret,thresh = cv2.threshold(gray , 240 ,250 ,cv2.THRESH_BINARY)\n",
    "contours ,hierarchy =cv2.findContours(thresh ,cv2.RETR_TREE ,cv2.CHAIN_APPROX_NONE)\n",
    "\n",
    "for contour in contours :\n",
    "    #aprroximation \n",
    "    approx =cv2.approxPolyDP(contour ,.003 * cv2.arcLength(contour ,True) ,True)\n",
    "    cv2.drawContours(img ,[approx ] ,0 ,(0,0,0),4)\n",
    "    x= approx.ravel()[0]+10\n",
    "    y = approx.ravel()[1]-5\n",
    "\n",
    "    if(len(approx) == 3):\n",
    "        cv2.putText(img ,\"triangle\" ,(x+5,y) ,cv2.FONT_HERSHEY_COMPLEX,.5,(255.0,0))\n",
    "    \n",
    "    \n",
    "    elif(len(approx) == 4):\n",
    "        cv2.putText(img ,\"squar\" ,(x+5,y) ,cv2.FONT_HERSHEY_COMPLEX,.5,(255.0,0))\n",
    "\n",
    "    elif(len(approx) == 5):\n",
    "        cv2.putText(img ,\"pentagon\" ,(x+5,y) ,cv2.FONT_HERSHEY_COMPLEX,.5,(255.0,0))\n",
    "\n",
    "    else:\n",
    "        cv2.putText(img ,\"circle\" ,(x+5,y) ,cv2.FONT_HERSHEY_COMPLEX,.5,(255.0,0))\n",
    "\n",
    "cv2.imshow(\"shape\" ,img)\n",
    "cv2.imshow(\"GRAY\" ,gray)\n",
    "cv2.imshow(\"THRSH\" ,thresh)\n",
    "\n",
    "\n",
    "cv2.waitKey(0)\n",
    "cv2.destroyAllWindows()"
   ]
  },
  {
   "cell_type": "code",
   "execution_count": null,
   "metadata": {},
   "outputs": [],
   "source": []
  }
 ],
 "metadata": {
  "kernelspec": {
   "display_name": "Python 3",
   "language": "python",
   "name": "python3"
  },
  "language_info": {
   "codemirror_mode": {
    "name": "ipython",
    "version": 3
   },
   "file_extension": ".py",
   "mimetype": "text/x-python",
   "name": "python",
   "nbconvert_exporter": "python",
   "pygments_lexer": "ipython3",
   "version": "3.8.5"
  }
 },
 "nbformat": 4,
 "nbformat_minor": 4
}
