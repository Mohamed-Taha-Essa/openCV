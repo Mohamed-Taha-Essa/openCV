{
 "cells": [
  {
   "cell_type": "code",
   "execution_count": 6,
   "metadata": {},
   "outputs": [
    {
     "name": "stdout",
     "output_type": "stream",
     "text": [
      "255\n",
      "255\n",
      "255\n"
     ]
    }
   ],
   "source": [
    "import cv2\n",
    "import numpy as np\n",
    "from matplotlib import pyplot as plt\n",
    "def nothing(x) :\n",
    "    print(x)\n",
    "img = cv2.imread(\"color.jpg\" )\n",
    "#convert img to hsv color\n",
    "hsv =cv2.cvtColor(img ,cv2.COLOR_BGR2HSV)\n",
    "\n",
    "#make a window \n",
    "cv2.namedWindow(\"new_window\")\n",
    "#lower hue sat value\n",
    "cv2.createTrackbar(\"low_hue\" ,\"new_window\" ,0,255,nothing)\n",
    "cv2.createTrackbar(\"low_sat\" ,\"new_window\" ,0,255,nothing)\n",
    "cv2.createTrackbar(\"low_value\" ,\"new_window\" ,0,255,nothing)\n",
    "#upper hue sat value\n",
    "cv2.createTrackbar(\"upper_hue\" ,\"new_window\" ,255,255,nothing)\n",
    "cv2.createTrackbar(\"upper_sat\" ,\"new_window\" ,255,255,nothing)\n",
    "cv2.createTrackbar(\"upper_value\" ,\"new_window\" ,255,255,nothing)\n",
    "\n",
    "while(True ) : \n",
    "    low_hue =cv2.getTrackbarPos(\"low_hue\" ,\"new_window\")\n",
    "    low_sat =cv2.getTrackbarPos(\"low_sat\" ,\"new_window\")\n",
    "    low_value =cv2.getTrackbarPos(\"low_value\" ,\"new_window\")\n",
    "\n",
    "    upper_hue =cv2.getTrackbarPos(\"upper_hue\" ,\"new_window\")\n",
    "    upper_sat =cv2.getTrackbarPos(\"upper_sat\" ,\"new_window\")\n",
    "    upper_value =cv2.getTrackbarPos(\"upper_value\" ,\"new_window\")\n",
    "\n",
    "    #define range for blue color in img\n",
    "    lower_blue = np.array([low_hue,low_sat,low_value])\n",
    "    upper_blue =np.array([upper_hue,upper_sat,upper_value])\n",
    "\n",
    "    # Threshold the HSV image to get only blue colors\n",
    "    mask = cv2.inRange(hsv, lower_blue, upper_blue)\n",
    "\n",
    "    # Bitwise-AND mask and original image\n",
    "    res = cv2.bitwise_and(img,img, mask= mask)\n",
    "    #resize to show all img\n",
    "    res = cv2.resize(res ,(512,512))\n",
    "    hsv =cv2.resize(hsv ,(512,512))\n",
    "    img =cv2.resize(img ,(512,512))\n",
    "    #show the imgs\n",
    "    cv2.imshow(\"hsv\" ,hsv)\n",
    "    cv2.imshow(\"res\" ,res)\n",
    "    cv2.imshow(\"img\" ,img)\n",
    "    cv2.imshow(\"mask\" ,mask)\n",
    "\n",
    "    k =cv2.waitKey(1)\n",
    "    if k==27:\n",
    "        break \n",
    "cv2.destroyAllWindows()\n"
   ]
  },
  {
   "cell_type": "code",
   "execution_count": 5,
   "metadata": {},
   "outputs": [
    {
     "name": "stdout",
     "output_type": "stream",
     "text": [
      "255\n",
      "255\n",
      "255\n"
     ]
    }
   ],
   "source": [
    "#if using vidow\n",
    "import cv2\n",
    "import numpy as np\n",
    "from matplotlib import pyplot as plt\n",
    "def nothing(x) :\n",
    "    print(x)\n",
    "\n",
    "\n",
    "cap = cv2.VideoCapture(0)\n",
    "\n",
    "#make a window \n",
    "cv2.namedWindow(\"new_window\")\n",
    "\n",
    "#lower hue sat value\n",
    "cv2.createTrackbar(\"low_hue\" ,\"new_window\" ,0,255,nothing)\n",
    "cv2.createTrackbar(\"low_sat\" ,\"new_window\" ,0,255,nothing)\n",
    "cv2.createTrackbar(\"low_value\" ,\"new_window\" ,0,255,nothing)\n",
    "#upper hue sat value\n",
    "cv2.createTrackbar(\"upper_hue\" ,\"new_window\" ,255,255,nothing)\n",
    "cv2.createTrackbar(\"upper_sat\" ,\"new_window\" ,255,255,nothing)\n",
    "cv2.createTrackbar(\"upper_value\" ,\"new_window\" ,255,255,nothing)\n",
    "\n",
    "while(True ) : \n",
    "    _,frame = cap.read()\n",
    "    \n",
    "    #convert img to hsv color\n",
    "    hsv =cv2.cvtColor(frame ,cv2.COLOR_BGR2HSV)\n",
    "\n",
    "    low_hue =cv2.getTrackbarPos(\"low_hue\" ,\"new_window\")\n",
    "    low_sat =cv2.getTrackbarPos(\"low_sat\" ,\"new_window\")\n",
    "    low_value =cv2.getTrackbarPos(\"low_value\" ,\"new_window\")\n",
    "    upper_hue =cv2.getTrackbarPos(\"upper_hue\" ,\"new_window\")\n",
    "    upper_sat =cv2.getTrackbarPos(\"upper_sat\" ,\"new_window\")\n",
    "    upper_value =cv2.getTrackbarPos(\"upper_value\" ,\"new_window\")\n",
    "\n",
    "    #define range for blue color in img\n",
    "    lower = np.array([low_hue,low_sat,low_value])\n",
    "    upper=np.array([upper_hue,upper_sat,upper_value])\n",
    "\n",
    "    # Threshold the HSV image to get only any colors determing in trackbar\n",
    "    mask = cv2.inRange(hsv, lower, upper)\n",
    "\n",
    "    # Bitwise-AND mask and original image\n",
    "    res = cv2.bitwise_and(frame,frame, mask= mask)\n",
    "    \n",
    "    #show the fra,es in different type\n",
    "    cv2.imshow(\"hsv\" ,hsv)\n",
    "    cv2.imshow(\"res\" ,res)\n",
    "    cv2.imshow(\"frame\" ,frame)\n",
    "    cv2.imshow(\"mask\" ,mask)\n",
    "    k =cv2.waitKey(1)\n",
    "    if k==27:\n",
    "        break \n",
    "cv2.destroyAllWindows()\n"
   ]
  },
  {
   "cell_type": "code",
   "execution_count": null,
   "metadata": {},
   "outputs": [],
   "source": []
  }
 ],
 "metadata": {
  "kernelspec": {
   "display_name": "Python 3",
   "language": "python",
   "name": "python3"
  },
  "language_info": {
   "codemirror_mode": {
    "name": "ipython",
    "version": 3
   },
   "file_extension": ".py",
   "mimetype": "text/x-python",
   "name": "python",
   "nbconvert_exporter": "python",
   "pygments_lexer": "ipython3",
   "version": "3.8.5"
  }
 },
 "nbformat": 4,
 "nbformat_minor": 4
}
