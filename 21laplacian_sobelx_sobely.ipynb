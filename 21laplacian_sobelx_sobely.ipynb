{
 "cells": [
  {
   "cell_type": "code",
   "execution_count": null,
   "metadata": {},
   "outputs": [],
   "source": [
    "import cv2\n",
    "import numpy as np \n",
    "import matplotlib.pyplot as plt\n",
    "\n",
    "img = cv2.imread(\"aml.jpg\" ,)\n",
    "img = cv2.resize(img , (512,512))\n",
    "lablac_img = cv2.Laplacian(img  ,cv2.CV_64F ,3)\n",
    "lablac_img = cv2.convertScaleAbs(lablac_img)\n",
    "\n",
    "sobelx_img =cv2.Sobel(img ,cv2.CV_64F,dy = 0 , dx = 1)\n",
    "sobelx_img = np.uint8(np.absolute(sobelx_img))\n",
    "\n",
    "sobely_img =cv2.Sobel(img ,cv2.CV_64F,dy = 1 , dx = 0)\n",
    "sobely_img = np.uint8(np.absolute(sobely_img))\n",
    "\n",
    "sobelx_or_y =cv2.bitwise_or(sobely_img,sobelx_img)\n",
    "#convert to int value to delte all not important edges\n",
    "sobelx_or_y = cv2.convertScaleAbs(sobelx_or_y)\n",
    "\n",
    "cv2.imshow(\"image\" ,img)\n",
    "cv2.imshow(\"lablac_img64f\" ,lablac_img)\n",
    "cv2.imshow(\"sobelx_img\" ,sobelx_img)\n",
    "cv2.imshow(\"sobely_img\" ,sobely_img)\n",
    "cv2.imshow(\"sobelx_or_y\" ,sobelx_or_y)\n",
    "\n",
    "cv2.waitKey(0)\n",
    "cv2.destroyAllWindows()\n"
   ]
  },
  {
   "cell_type": "code",
   "execution_count": null,
   "metadata": {},
   "outputs": [],
   "source": []
  }
 ],
 "metadata": {
  "kernelspec": {
   "display_name": "Python 3",
   "language": "python",
   "name": "python3"
  },
  "language_info": {
   "codemirror_mode": {
    "name": "ipython",
    "version": 3
   },
   "file_extension": ".py",
   "mimetype": "text/x-python",
   "name": "python",
   "nbconvert_exporter": "python",
   "pygments_lexer": "ipython3",
   "version": "3.8.5"
  }
 },
 "nbformat": 4,
 "nbformat_minor": 4
}
