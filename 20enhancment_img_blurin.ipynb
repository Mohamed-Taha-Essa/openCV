{
 "cells": [
  {
   "cell_type": "code",
   "execution_count": 30,
   "metadata": {},
   "outputs": [],
   "source": [
    "import cv2\n",
    "import numpy as np\n",
    "\n",
    "x=95\n",
    "img= cv2.imread(\"taha.jpg\")\n",
    "# img = cv2.resize(img,(512,400))\n",
    "blur_img =cv2.blur(img,(5,5)) #mean for pixels\n",
    "#for noise img but not all type \n",
    "gaussian_img = cv2.GaussianBlur(img ,(3,3) ,cv2.BORDER_DEFAULT)\n",
    "medain_img = cv2.medianBlur(img ,5) #using in salt and paper\n",
    "#A bilateral filter is used for smoothening images and reducing noise, \n",
    "#while preserving edges\n",
    "bilateral_img = cv2.bilateralFilter(img ,5 ,x,x)\n",
    "\n",
    "\n",
    "\n",
    "\n",
    "cv2.imshow(\"image\" ,img)\n",
    "# cv2.imshow(\"blur_img\" ,blur_img)\n",
    "# cv2.imshow(\"gaussian_img\" ,gaussian_img)\n",
    "# cv2.imshow(\"medain_img\" ,medain_img)\n",
    "cv2.imshow(\"bilateral_img\" ,bilateral_img)\n",
    "\n",
    "\n",
    "cv2.waitKey(0)\n",
    "cv2.destroyAllWindows()\n",
    "\n"
   ]
  },
  {
   "cell_type": "code",
   "execution_count": null,
   "metadata": {},
   "outputs": [],
   "source": []
  }
 ],
 "metadata": {
  "kernelspec": {
   "display_name": "Python 3",
   "language": "python",
   "name": "python3"
  },
  "language_info": {
   "codemirror_mode": {
    "name": "ipython",
    "version": 3
   },
   "file_extension": ".py",
   "mimetype": "text/x-python",
   "name": "python",
   "nbconvert_exporter": "python",
   "pygments_lexer": "ipython3",
   "version": "3.8.5"
  }
 },
 "nbformat": 4,
 "nbformat_minor": 4
}
