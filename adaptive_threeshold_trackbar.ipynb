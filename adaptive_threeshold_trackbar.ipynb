{
 "cells": [
  {
   "cell_type": "code",
   "execution_count": 1,
   "metadata": {},
   "outputs": [],
   "source": [
    "# Python program to illustrate\n",
    "# adaptive thresholding type on an image\n",
    "\t\n",
    "# organizing imports\n",
    "import cv2\n",
    "import numpy as np\n",
    "def nothing(x):\n",
    "    pass\n",
    "\n",
    "def control(value):\n",
    "    if value%2 == 0 and value>2:\n",
    "        value+=1 \n",
    "        return value\n",
    "    elif value<3 :\n",
    "        value =3\n",
    "        return value\n",
    "    else:\n",
    "        return value\n",
    "    \n",
    "    \n",
    "cv2.namedWindow(\"ttt\")\n",
    "\n",
    "cv2.createTrackbar(\"pixel\" ,\"ttt\" ,3,199 ,nothing)\n",
    "\n",
    "# path to input image is specified and\n",
    "# image is loaded with imread command\n",
    "cap = cv2.VideoCapture(0)\n",
    "\n",
    "# cv2.cvtColor is applied over the\n",
    "# image input with applied parameters\n",
    "# to convert the image in grayscale\n",
    "while True :\n",
    "    _,frame =cap.read()\n",
    "    img = cv2.cvtColor(frame, cv2.COLOR_BGR2GRAY)\n",
    "    \n",
    "    value = cv2.getTrackbarPos(\"pixel\" ,\"ttt\")\n",
    "    \n",
    "    value = control(value)\n",
    "    thresh1 = cv2.adaptiveThreshold(img, 255, cv2.ADAPTIVE_THRESH_MEAN_C,\n",
    "                                            cv2.THRESH_BINARY, value, 5)\n",
    "\n",
    "    thresh2 = cv2.adaptiveThreshold(img, 255, cv2.ADAPTIVE_THRESH_GAUSSIAN_C,\n",
    "                                            cv2.THRESH_BINARY, value, 5)\n",
    "    \n",
    "    # applying different thresholding\n",
    "    # techniques on the input image\n",
    "  \n",
    "    # the window showing output images\n",
    "    # with the corresponding thresholding\n",
    "    # techniques applied to the input image\n",
    "    cv2.imshow('Adaptive Mean', thresh1)\n",
    "    cv2.imshow('Adaptive Gaussian', thresh2)\n",
    "\n",
    "\t\n",
    "    # De-allocate any associated memory usage\n",
    "    if cv2.waitKey(1) & 0xff == 27:\n",
    "        cv2.destroyAllWindows()\n",
    "        break\n"
   ]
  },
  {
   "cell_type": "code",
   "execution_count": null,
   "metadata": {},
   "outputs": [],
   "source": []
  },
  {
   "cell_type": "code",
   "execution_count": null,
   "metadata": {},
   "outputs": [],
   "source": []
  }
 ],
 "metadata": {
  "kernelspec": {
   "display_name": "Python 3",
   "language": "python",
   "name": "python3"
  },
  "language_info": {
   "codemirror_mode": {
    "name": "ipython",
    "version": 3
   },
   "file_extension": ".py",
   "mimetype": "text/x-python",
   "name": "python",
   "nbconvert_exporter": "python",
   "pygments_lexer": "ipython3",
   "version": "3.8.5"
  }
 },
 "nbformat": 4,
 "nbformat_minor": 4
}
