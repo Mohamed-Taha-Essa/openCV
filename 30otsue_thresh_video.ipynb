{
 "cells": [
  {
   "cell_type": "code",
   "execution_count": 6,
   "metadata": {},
   "outputs": [],
   "source": [
    "import cv2 \n",
    "import numpy as np \n",
    "\n",
    "cap = cv2.VideoCapture(0)\n",
    "\n",
    "while(cap.isOpened()):\n",
    "    ret ,frame =cap.read()\n",
    "    gray_img =cv2.cvtColor(frame ,cv2.COLOR_BGR2GRAY)\n",
    "    \n",
    "    blur=cv2.GaussianBlur(gray_img,(5,5),0)\n",
    "    \n",
    "    ret,otsu =cv2.threshold(gray_img ,0 ,255 ,cv2.THRESH_BINARY+cv2.THRESH_OTSU)\n",
    "    ret,otsu1=cv2.threshold(blur ,0 ,255 ,cv2.THRESH_BINARY+cv2.THRESH_OTSU)\n",
    "    \n",
    "    cv2.imshow(\"otsu1\" ,otsu1)\n",
    "    cv2.imshow(\"otsu\" ,otsu)\n",
    "    cv2.imshow(\"frame\" ,frame)\n",
    "    key = cv2.waitKey(1)\n",
    "    if(key == 27):\n",
    "        break \n",
    "        \n",
    "cap.release()\n",
    "cv2.destroyAllWindows()"
   ]
  },
  {
   "cell_type": "code",
   "execution_count": null,
   "metadata": {},
   "outputs": [],
   "source": []
  }
 ],
 "metadata": {
  "kernelspec": {
   "display_name": "Python 3",
   "language": "python",
   "name": "python3"
  },
  "language_info": {
   "codemirror_mode": {
    "name": "ipython",
    "version": 3
   },
   "file_extension": ".py",
   "mimetype": "text/x-python",
   "name": "python",
   "nbconvert_exporter": "python",
   "pygments_lexer": "ipython3",
   "version": "3.8.5"
  }
 },
 "nbformat": 4,
 "nbformat_minor": 4
}
