{
 "cells": [
  {
   "cell_type": "code",
   "execution_count": 7,
   "metadata": {},
   "outputs": [],
   "source": [
    "import cv2\n",
    "import numpy as np\n",
    "img = cv.imread('j.png',0)\n",
    "kernel = np.ones((3,3),np.uint8)\n",
    "erosion = cv.erode(img,kernel,iterations = 2)\n",
    "\n",
    "img =cv2.resize(img,(512,512))\n",
    "erosion = cv2.resize(erosion,(512,512))\n",
    "\n",
    "\n",
    "cv2.imshow(\"img\" ,img)\n",
    "cv2.imshow(\"erosion\" ,erosion)\n",
    "\n",
    "cv2.waitKey(0)\n",
    "\n",
    "cv2.destroyAllWindows()"
   ]
  },
  {
   "cell_type": "code",
   "execution_count": null,
   "metadata": {},
   "outputs": [],
   "source": [
    "import cv2\n",
    "import numpy as np\n",
    "img = cv.imread('j.png',0)\n",
    "kernel = np.ones((3,3),np.uint8)\n",
    "erosion = cv.erode(img,kernel,iterations = 2)\n",
    "\n",
    "img =cv2.resize(img,(512,512))\n",
    "erosion = cv2.resize(erosion,(512,512))\n",
    "\n",
    "\n",
    "cv2.imshow(\"img\" ,img)\n",
    "cv2.imshow(\"erosion\" ,erosion)\n",
    "\n",
    "cv2.waitKey(0)\n",
    "cv2.destroyAllWindows()\n",
    "\n",
    "\n",
    "dilation = cv.dilate(img,kernel,iterations = 1)\n"
   ]
  }
 ],
 "metadata": {
  "kernelspec": {
   "display_name": "Python 3",
   "language": "python",
   "name": "python3"
  },
  "language_info": {
   "codemirror_mode": {
    "name": "ipython",
    "version": 3
   },
   "file_extension": ".py",
   "mimetype": "text/x-python",
   "name": "python",
   "nbconvert_exporter": "python",
   "pygments_lexer": "ipython3",
   "version": "3.8.5"
  }
 },
 "nbformat": 4,
 "nbformat_minor": 4
}
