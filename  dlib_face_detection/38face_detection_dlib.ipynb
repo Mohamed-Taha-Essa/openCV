{
 "cells": [
  {
   "cell_type": "code",
   "execution_count": 12,
   "id": "be743ffb",
   "metadata": {},
   "outputs": [],
   "source": [
    "import cv2 \n",
    "import numpy \n",
    "import dlib\n",
    "\n",
    "cap =cv2.VideoCapture(0)\n",
    "\n",
    "detector =dlib.get_frontal_face_detector()\n",
    "predictor =dlib.shape_predictor(\"shape_predictor_68_face_landmarks.dat\")\n",
    "\n",
    "while(True):\n",
    "    ret ,frame =cap.read()\n",
    "    if(ret==0) :\n",
    "        print(\"eror\")\n",
    "        break\n",
    "        \n",
    "    gray =cv2.cvtColor(frame ,cv2.COLOR_BGR2GRAY)\n",
    "    faces=detector(gray)\n",
    "    for face in faces : \n",
    "        x1 =face.left()\n",
    "        y1 =face.top()\n",
    "        x2 =face.right()\n",
    "        y2 =face.bottom()\n",
    "        #cv2.rectangle(frame ,(x1,y1),(x2,y2),(0,255,0),3)\n",
    "        land_marks=predictor(gray ,face)\n",
    "        for n in range(68):\n",
    "            x=land_marks.part(n).x\n",
    "            y=land_marks.part(n).y\n",
    "            cv2.circle(frame ,(x,y),2,(0,255,0) ,-1)\n",
    "    \n",
    "    cv2.imshow(\"frame\" ,frame) \n",
    "    key =cv2.waitKey(1)\n",
    "    if key==27:\n",
    "        break \n",
    "cap.release()\n",
    "cv2.destroyAllWindows()"
   ]
  },
  {
   "cell_type": "code",
   "execution_count": null,
   "id": "5cb006e5",
   "metadata": {},
   "outputs": [],
   "source": []
  }
 ],
 "metadata": {
  "kernelspec": {
   "display_name": "Python 3",
   "language": "python",
   "name": "python3"
  },
  "language_info": {
   "codemirror_mode": {
    "name": "ipython",
    "version": 3
   },
   "file_extension": ".py",
   "mimetype": "text/x-python",
   "name": "python",
   "nbconvert_exporter": "python",
   "pygments_lexer": "ipython3",
   "version": "3.6.13"
  }
 },
 "nbformat": 4,
 "nbformat_minor": 5
}
