{
 "cells": [
  {
   "cell_type": "code",
   "execution_count": 4,
   "metadata": {},
   "outputs": [],
   "source": [
    "import cv2\n",
    "import numpy as np \n",
    "\n",
    "cap =cv2.VideoCapture(\"G:\\\\frahi\\\\1.mp4\")\n",
    "\n",
    "ret ,frame1=cap.read()\n",
    "ret ,frame2=cap.read()\n",
    "\n",
    "while(cap.isOpened()):\n",
    "    diff =cv2.absdiff(frame1 ,frame2)\n",
    "    gray =cv2.cvtColor(diff , cv2.COLOR_BGR2GRAY)\n",
    "    blur =cv2.GaussianBlur(gray ,(5,5),0)\n",
    "    ret ,thresh =cv2.threshold(blur , 40 ,255 ,0)\n",
    "    dilate = cv2.dilate(thresh ,None, iterations =10)\n",
    "    \n",
    "    contours ,hierarchy =cv2.findContours(dilate, cv2.RETR_TREE, cv2.CHAIN_APPROX_SIMPLE)\n",
    "    #cv2.drawContours(frame1, contours, -1, (100,100,0), 3)\n",
    "    for contour in contours :\n",
    "        (x,y,w,h)= cv2.boundingRect(contour)\n",
    "        if(cv2.contourArea(contour) <2300):\n",
    "            continue\n",
    "        cv2.rectangle(frame1 ,(x ,y ),(x+w ,y+h) ,(100,100,0), 2)\n",
    "        cv2.putText(frame1 , \"status {}\".format('MOVMENT') ,(30,30),\n",
    "                    cv2.FONT_HERSHEY_SIMPLEX , 1 ,(255,255,0),3)\n",
    "        \n",
    "    cv2.imshow(\"video\" ,frame1 )\n",
    "    cv2.imshow(\"thresh\" ,thresh )\n",
    "    cv2.imshow(\"dilate\" ,dilate )\n",
    "    \n",
    "    frame1 = frame2 \n",
    "    ret ,frame2 =cap.read()\n",
    "    if cv2.waitKey(1)==27:\n",
    "        break\n",
    "        \n",
    "cv2.destroyAllWindows()\n",
    "cap.release()\n",
    "    \n",
    "    "
   ]
  },
  {
   "cell_type": "code",
   "execution_count": null,
   "metadata": {},
   "outputs": [],
   "source": []
  }
 ],
 "metadata": {
  "kernelspec": {
   "display_name": "Python 3",
   "language": "python",
   "name": "python3"
  },
  "language_info": {
   "codemirror_mode": {
    "name": "ipython",
    "version": 3
   },
   "file_extension": ".py",
   "mimetype": "text/x-python",
   "name": "python",
   "nbconvert_exporter": "python",
   "pygments_lexer": "ipython3",
   "version": "3.8.5"
  }
 },
 "nbformat": 4,
 "nbformat_minor": 4
}
