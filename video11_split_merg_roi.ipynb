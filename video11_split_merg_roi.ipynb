{
 "cells": [
  {
   "cell_type": "code",
   "execution_count": 39,
   "metadata": {},
   "outputs": [
    {
     "name": "stdout",
     "output_type": "stream",
     "text": [
      "(6667, 10000, 3)\n",
      "(10000, 6667, 3)\n",
      "(1000, 2000, 3)\n"
     ]
    }
   ],
   "source": [
    "import cv2 \n",
    "\n",
    "img =cv2.imread(\"IMG_1.jpg\")\n",
    "img1 =cv2.imread(\"IMG_2.jpg\")\n",
    "print(img.shape)\n",
    "print(img1.shape)\n",
    "\n",
    "img = cv2.resize(img,(2000,1000))\n",
    "img1 = cv2.resize(img1,(2000,1000))\n",
    "\n",
    "print(img.shape)\n",
    "\n",
    "#b ,g ,r = cv2.split(img)\n",
    "#new_img =cv2.merge((b,g,r))\n",
    "\n",
    "#ad_img=cv2.add(img ,img1)\n",
    "#add_img=cv2.addWeighted(img,.5 ,img1,.5 ,0)\n",
    "cv2.imshow(\"img\" ,img1)\n",
    "# cv2.imshow(\"b\" ,b)\n",
    "# cv2.imshow(\"g\" ,g)\n",
    "# cv2.imshow(\"r\" ,r)\n",
    "cv2.waitKey(0)\n",
    "cv2.destroyAllWindows()"
   ]
  },
  {
   "cell_type": "code",
   "execution_count": 21,
   "metadata": {},
   "outputs": [
    {
     "name": "stdout",
     "output_type": "stream",
     "text": [
      "1\n",
      "59\n"
     ]
    }
   ],
   "source": [
    "for i in range(1,60,1):\n",
    "    if (6667% i == 0):\n",
    "        print(i)\n",
    "            "
   ]
  },
  {
   "cell_type": "code",
   "execution_count": null,
   "metadata": {},
   "outputs": [],
   "source": []
  }
 ],
 "metadata": {
  "kernelspec": {
   "display_name": "Python 3",
   "language": "python",
   "name": "python3"
  },
  "language_info": {
   "codemirror_mode": {
    "name": "ipython",
    "version": 3
   },
   "file_extension": ".py",
   "mimetype": "text/x-python",
   "name": "python",
   "nbconvert_exporter": "python",
   "pygments_lexer": "ipython3",
   "version": "3.8.5"
  }
 },
 "nbformat": 4,
 "nbformat_minor": 4
}
