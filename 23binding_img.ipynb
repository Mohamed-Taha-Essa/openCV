{
 "cells": [
  {
   "cell_type": "code",
   "execution_count": 6,
   "metadata": {
    "scrolled": true
   },
   "outputs": [],
   "source": [
    "import cv2\n",
    "import numpy as np\n",
    "import matplotlib.pyplot as plt\n",
    "\n",
    "\n",
    "new = cv2.imread(\"new.jpg\" )\n",
    "\n",
    "aml = new[3200:4495  ,1600 :2600]\n",
    "taha =new[2925:4220  ,2550 :3550]\n",
    "\n",
    "aml_taha= np.hstack((taha[:, :450],aml[: ,510:960] )) \n",
    "\n",
    "\n",
    "\n",
    "\n",
    "cv2.imwrite(\"AML_TAHA.JPG\" ,aml_taha)\n",
    "cv2.waitKey()\n",
    "cv2.destroyAllWindows()"
   ]
  },
  {
   "cell_type": "code",
   "execution_count": null,
   "metadata": {},
   "outputs": [
    {
     "name": "stdout",
     "output_type": "stream",
     "text": [
      "(1295, 900, 3)\n",
      "(1295, 900, 3)\n",
      "7\n",
      "7\n",
      "6\n",
      "6\n"
     ]
    }
   ],
   "source": [
    "import cv2\n",
    "import numpy as np\n",
    "import matplotlib.pyplot as plt\n",
    "def gassian_pyramids(image ):\n",
    "    img = image.copy()\n",
    "    list_name =[image]\n",
    "    for counter in range(6):\n",
    "        image= cv2.pyrDown(image)\n",
    "        list_name.append(image)\n",
    "       # cv2.imshow(str(counter) ,image)\n",
    "    return list_name\n",
    "\n",
    "def lablacian_pyramids(gausi_name_list):\n",
    "    lablacian_img = gausi_name_list[5]\n",
    "    lablacian_pyup = [lablacian_img]\n",
    "\n",
    "    for counter in range(5,0,-1):\n",
    "        gaussian_extend= cv2.pyrUp(gausi_name_list[counter])\n",
    "\n",
    "        width = gausi_name_list[counter-1].shape[0]\n",
    "        height =gausi_name_list[counter-1].shape[1]\n",
    "\n",
    "        gaussian_extend =cv2.resize(gaussian_extend ,(height ,width))\n",
    "        lablacian =cv2.subtract(gausi_name_list[counter-1] ,gaussian_extend)\n",
    "        lablacian_pyup.append(lablacian)\n",
    "        #cv2.imshow(str(counter) ,lablacian)\n",
    "    return lablacian_pyup\n",
    "\n",
    "aml =cv2.imread(\"AML_TAHA.JPG\" )\n",
    "taha =cv2.imread(\"AML_TAHA.JPG\")\n",
    "print(aml.shape)\n",
    "print(taha.shape)\n",
    "#gaussian pyramid for aml\n",
    "aml_gaus_pyr = gassian_pyramids(aml )\n",
    "\n",
    "#gaussian pyramids for taha\n",
    "taha_gaus_pyr = gassian_pyramids(taha )\n",
    "print(len(aml_gaus_pyr))\n",
    "print(len(taha_gaus_pyr))\n",
    "\n",
    "#lablacian pyramid for aml\n",
    "aml_labls_pyr=lablacian_pyramids(aml_gaus_pyr)\n",
    "\n",
    "#lablacia pyramids for taha\n",
    "taha_labls_pyr=lablacian_pyramids(taha_gaus_pyr)\n",
    "print(len(aml_labls_pyr))\n",
    "print(len(taha_labls_pyr))\n",
    "#add left and right halves if images\n",
    "aml_taha = []\n",
    "for am ,ta in zip(aml_labls_pyr ,taha_labls_pyr):\n",
    "    gray =cv2.cvtColor(am ,cv2.COLOR_BGR2GRAY)\n",
    "    cols,row = gray.shape\n",
    "    \n",
    "    lablacian=np.hstack((taha[ :int(cols/2) ,aml[int(cols/2):]]))\n",
    "    lablacian =cv2.cvtColor(lablacian ,cv2.COLOR_GRAY2BGR)\n",
    "    aml_taha.append(lablacian) \n",
    " \n",
    "#now reconstruct\n",
    "taha_aml_reconstruct = aml_taha[0]\n",
    "#cv2.imshow(\"aml_taha\" ,taha_aml_reconstruct)\n",
    "\n",
    "cv2.waitKey()\n",
    "cv2.destroyAllWindows()"
   ]
  },
  {
   "cell_type": "code",
   "execution_count": null,
   "metadata": {},
   "outputs": [],
   "source": []
  },
  {
   "cell_type": "code",
   "execution_count": null,
   "metadata": {},
   "outputs": [],
   "source": []
  }
 ],
 "metadata": {
  "kernelspec": {
   "display_name": "Python 3",
   "language": "python",
   "name": "python3"
  },
  "language_info": {
   "codemirror_mode": {
    "name": "ipython",
    "version": 3
   },
   "file_extension": ".py",
   "mimetype": "text/x-python",
   "name": "python",
   "nbconvert_exporter": "python",
   "pygments_lexer": "ipython3",
   "version": "3.8.5"
  }
 },
 "nbformat": 4,
 "nbformat_minor": 4
}
