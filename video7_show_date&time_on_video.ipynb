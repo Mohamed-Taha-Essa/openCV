{
 "cells": [
  {
   "cell_type": "code",
   "execution_count": 3,
   "metadata": {},
   "outputs": [
    {
     "name": "stdout",
     "output_type": "stream",
     "text": [
      "1280.0\n",
      "720.0\n"
     ]
    }
   ],
   "source": [
    "import datetime\n",
    "import cv2\n",
    "cap = cv2.VideoCapture(0)\n",
    "#print(cap.get(cv2.CAP_PROP_FRAME_WIDTH))\n",
    "#print(cap.get(cv2.CAP_PROP_FRAME_HEIGHT))\n",
    "cap.set(3, 3000)\n",
    "cap.set(4, 3000)\n",
    "print(cap.get(3))\n",
    "print(cap.get(4))\n",
    "while(cap.isOpened()):\n",
    "    ret, frame = cap.read()\n",
    "    if ret == True:\n",
    "        font = cv2.FONT_HERSHEY_SIMPLEX\n",
    "        #text = 'Width: '+ str(cap.get(3)) + ' Height:' + str(cap.get(4))\n",
    "        text = \"width : {} Height : {}\".format(str(cap.get(3)), str(cap.get(4)))\n",
    "        datet = str(datetime.datetime.now())\n",
    "        frame = cv2.putText(frame, text, (10, 50), font, 1,\n",
    "                           (0, 255, 255), 2)\n",
    "        frame = cv2.putText(frame, datet, (10, 100), font, 1,\n",
    "                           (0, 255, 255), 2)\n",
    "        cv2.imshow('frame', frame)\n",
    "\n",
    "        if cv2.waitKey(1)== ord('q'):\n",
    "            break\n",
    "    else:\n",
    "        break\n",
    "\n",
    "cap.release()\n",
    "cv2.destroyAllWindows()"
   ]
  },
  {
   "cell_type": "code",
   "execution_count": null,
   "metadata": {},
   "outputs": [],
   "source": []
  }
 ],
 "metadata": {
  "kernelspec": {
   "display_name": "Python 3",
   "language": "python",
   "name": "python3"
  },
  "language_info": {
   "codemirror_mode": {
    "name": "ipython",
    "version": 3
   },
   "file_extension": ".py",
   "mimetype": "text/x-python",
   "name": "python",
   "nbconvert_exporter": "python",
   "pygments_lexer": "ipython3",
   "version": "3.8.5"
  }
 },
 "nbformat": 4,
 "nbformat_minor": 4
}
